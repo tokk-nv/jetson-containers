{
 "cells": [
  {
   "cell_type": "markdown",
   "id": "1755d1f0-f19f-4438-a249-f8c3d487543e",
   "metadata": {},
   "source": [
    "# LlamaIndex - Starter Tutorial (Local Models)\n",
    "\n",
    ":::{note}\n",
    "This tutorial is based on LlamaIndexofficial docs tutorial ([https://docs.llamaindex.ai/en/stable/getting_started/starter_example_local/](https://docs.llamaindex.ai/en/stable/getting_started/starter_example_local/#starter-tutorial-local-models))\n",
    ":::"
   ]
  },
  {
   "cell_type": "markdown",
   "id": "f597b254-c829-4e34-8480-f0aba098204d",
   "metadata": {
    "tags": []
   },
   "source": [
    "## Download data and folder setup\n",
    "\n",
    "On the **Docker host side**, run the following to set up the `jetson-containers`' `/data` directory.\n",
    "\n",
    "```bash\n",
    "cd jetson-containers\n",
    "mkdir -p data/documents/L4T-README\n",
    "cp /media/jetson/L4T-README/*.txt data/documents/L4T-README/\n",
    "```\n",
    "\n",
    "This in turn creates the mounted volume `/data/documents/L4T-README` inside the container.<br> \n",
    "Your directory structure should look like this:\n",
    "\n",
    "```\n",
    "└── ./data/documents/L4T-README\n",
    "    ├── INDEX.txt\n",
    "    ├── README-usb-dev-mode.txt\n",
    "    ├── README-vnc.txt\n",
    "    └── README-wifi.txt\n",
    "```\n",
    "\n",
    "You can check this with running a following bash command in the following cell."
   ]
  },
  {
   "cell_type": "code",
   "execution_count": 1,
   "id": "56b07549-9383-456d-8ffb-216fa8bd3cf3",
   "metadata": {
    "tags": []
   },
   "outputs": [
    {
     "name": "stdout",
     "output_type": "stream",
     "text": [
      "/data/documents/L4T-README:\n",
      "total 24\n",
      "-rw-rw-r-- 1 1000 1000  1104 May  6 22:42 INDEX.txt\n",
      "-rw-rw-r-- 1 1000 1000 11126 May  6 22:42 README-usb-dev-mode.txt\n",
      "-rw-rw-r-- 1 1000 1000  3590 May  6 22:42 README-vnc.txt\n",
      "-rw-rw-r-- 1 1000 1000  1940 May  6 22:42 README-wifi.txt\n"
     ]
    }
   ],
   "source": [
    "!ls -Rl /data/documents/L4T-README"
   ]
  },
  {
   "cell_type": "markdown",
   "id": "e191cda6",
   "metadata": {},
   "source": [
    "## Download the Llama2 model\n",
    "\n",
    "Check if you have Llama2 model downloaded."
   ]
  },
  {
   "cell_type": "code",
   "execution_count": 2,
   "id": "0456c238-5450-422f-8936-b6a07d82fb3b",
   "metadata": {
    "tags": []
   },
   "outputs": [
    {
     "name": "stdout",
     "output_type": "stream",
     "text": [
      "NAME                    \tID          \tSIZE  \tMODIFIED     \n",
      "mxbai-embed-large:latest\t468836162de7\t669 MB\t10 hours ago\t\n",
      "llama3:70b              \tbe39eb53a197\t39 GB \t25 hours ago\t\n",
      "llama3:latest           \ta6990ed6be41\t4.7 GB\t25 hours ago\t\n",
      "nomic-embed-text:latest \t0a109f422b47\t274 MB\t32 hours ago\t\n",
      "llama2:latest           \t78e26419b446\t3.8 GB\t11 days ago \t\n",
      "mistral:latest          \t61e88e884507\t4.1 GB\t2 weeks ago \t\n",
      "llama2:70b              \te7f6c06ffef4\t38 GB \t2 weeks ago \t\n",
      "llama2:13b              \td475bf4c50bc\t7.4 GB\t2 weeks ago \t\n"
     ]
    }
   ],
   "source": [
    "!ollama list"
   ]
  },
  {
   "cell_type": "markdown",
   "id": "69b8093f-31a8-4687-aaf0-260f90b5f34a",
   "metadata": {},
   "source": [
    "If not, run the following cell to download the Llama2 model using `ollama` command."
   ]
  },
  {
   "cell_type": "code",
   "execution_count": null,
   "id": "c627300c",
   "metadata": {},
   "outputs": [],
   "source": [
    "!ollama pull llama3"
   ]
  },
  {
   "cell_type": "markdown",
   "id": "b353751b-c598-4388-9680-bcabe7ffa9b2",
   "metadata": {
    "tags": []
   },
   "source": [
    "## Load data and build an index"
   ]
  },
  {
   "cell_type": "code",
   "execution_count": 3,
   "id": "2634dfa3-1263-42b9-901d-004f5166e38e",
   "metadata": {
    "tags": []
   },
   "outputs": [],
   "source": [
    "from llama_index.core import VectorStoreIndex, SimpleDirectoryReader, Settings\n",
    "from llama_index.core.embeddings import resolve_embed_model\n",
    "from llama_index.llms.ollama import Ollama\n",
    "\n",
    "import logging\n",
    "import sys\n",
    "# import llama_index.core\n",
    "\n",
    "# llama_index.core.set_global_handler(\"simple\")\n",
    "logging.basicConfig(stream=sys.stdout, level=logging.DEBUG)\n",
    "logging.getLogger().addHandler(logging.StreamHandler(stream=sys.stdout))"
   ]
  },
  {
   "cell_type": "code",
   "execution_count": 4,
   "id": "a7be6e88-dfde-432c-be4d-f843b34336dd",
   "metadata": {
    "tags": []
   },
   "outputs": [
    {
     "name": "stdout",
     "output_type": "stream",
     "text": [
      "DEBUG:llama_index.core.readers.file.base:> [SimpleDirectoryReader] Total files added: 4\n",
      "> [SimpleDirectoryReader] Total files added: 4\n"
     ]
    }
   ],
   "source": [
    "reader = SimpleDirectoryReader(input_dir=\"/data/documents/L4T-README/\")"
   ]
  },
  {
   "cell_type": "code",
   "execution_count": 5,
   "id": "85d110b4-2a30-4f0c-af81-85a41d720d49",
   "metadata": {
    "tags": []
   },
   "outputs": [
    {
     "name": "stdout",
     "output_type": "stream",
     "text": [
      "DEBUG:fsspec.local:open file: /data/documents/L4T-README/INDEX.txt\n",
      "open file: /data/documents/L4T-README/INDEX.txt\n",
      "DEBUG:fsspec.local:open file: /data/documents/L4T-README/README-usb-dev-mode.txt\n",
      "open file: /data/documents/L4T-README/README-usb-dev-mode.txt\n",
      "DEBUG:fsspec.local:open file: /data/documents/L4T-README/README-vnc.txt\n",
      "open file: /data/documents/L4T-README/README-vnc.txt\n",
      "DEBUG:fsspec.local:open file: /data/documents/L4T-README/README-wifi.txt\n",
      "open file: /data/documents/L4T-README/README-wifi.txt\n"
     ]
    }
   ],
   "source": [
    "documents = reader.load_data()"
   ]
  },
  {
   "cell_type": "code",
   "execution_count": 6,
   "id": "7d67b299-fdb8-469f-950c-070220b48965",
   "metadata": {
    "tags": []
   },
   "outputs": [
    {
     "data": {
      "text/plain": [
       "4"
      ]
     },
     "execution_count": 6,
     "metadata": {},
     "output_type": "execute_result"
    }
   ],
   "source": [
    "len(documents)"
   ]
  },
  {
   "cell_type": "code",
   "execution_count": 7,
   "id": "315b478d-c721-4863-83fc-ea57caa73d8b",
   "metadata": {
    "tags": []
   },
   "outputs": [
    {
     "name": "stdout",
     "output_type": "stream",
     "text": [
      "INFO:sentence_transformers.SentenceTransformer:Load pretrained SentenceTransformer: BAAI/bge-large-en-v1.5\n",
      "Load pretrained SentenceTransformer: BAAI/bge-large-en-v1.5\n",
      "DEBUG:urllib3.connectionpool:Starting new HTTPS connection (1): huggingface.co:443\n",
      "Starting new HTTPS connection (1): huggingface.co:443\n",
      "DEBUG:urllib3.connectionpool:https://huggingface.co:443 \"HEAD /BAAI/bge-large-en-v1.5/resolve/main/modules.json HTTP/1.1\" 200 0\n",
      "https://huggingface.co:443 \"HEAD /BAAI/bge-large-en-v1.5/resolve/main/modules.json HTTP/1.1\" 200 0\n",
      "DEBUG:filelock:Attempting to acquire lock 281469340667760 on /tmp/llama_index/models/.locks/models--BAAI--bge-large-en-v1.5/952a9b81c0bfd99800fabf352f69c7ccd46c5e43.lock\n",
      "Attempting to acquire lock 281469340667760 on /tmp/llama_index/models/.locks/models--BAAI--bge-large-en-v1.5/952a9b81c0bfd99800fabf352f69c7ccd46c5e43.lock\n",
      "DEBUG:filelock:Lock 281469340667760 acquired on /tmp/llama_index/models/.locks/models--BAAI--bge-large-en-v1.5/952a9b81c0bfd99800fabf352f69c7ccd46c5e43.lock\n",
      "Lock 281469340667760 acquired on /tmp/llama_index/models/.locks/models--BAAI--bge-large-en-v1.5/952a9b81c0bfd99800fabf352f69c7ccd46c5e43.lock\n",
      "DEBUG:urllib3.connectionpool:https://huggingface.co:443 \"GET /BAAI/bge-large-en-v1.5/resolve/main/modules.json HTTP/1.1\" 200 349\n",
      "https://huggingface.co:443 \"GET /BAAI/bge-large-en-v1.5/resolve/main/modules.json HTTP/1.1\" 200 349\n"
     ]
    },
    {
     "data": {
      "application/vnd.jupyter.widget-view+json": {
       "model_id": "1525bda2f6804820a0cf191c53f520e3",
       "version_major": 2,
       "version_minor": 0
      },
      "text/plain": [
       "modules.json:   0%|          | 0.00/349 [00:00<?, ?B/s]"
      ]
     },
     "metadata": {},
     "output_type": "display_data"
    },
    {
     "name": "stdout",
     "output_type": "stream",
     "text": [
      "DEBUG:filelock:Attempting to release lock 281469340667760 on /tmp/llama_index/models/.locks/models--BAAI--bge-large-en-v1.5/952a9b81c0bfd99800fabf352f69c7ccd46c5e43.lock\n",
      "Attempting to release lock 281469340667760 on /tmp/llama_index/models/.locks/models--BAAI--bge-large-en-v1.5/952a9b81c0bfd99800fabf352f69c7ccd46c5e43.lock\n",
      "DEBUG:filelock:Lock 281469340667760 released on /tmp/llama_index/models/.locks/models--BAAI--bge-large-en-v1.5/952a9b81c0bfd99800fabf352f69c7ccd46c5e43.lock\n",
      "Lock 281469340667760 released on /tmp/llama_index/models/.locks/models--BAAI--bge-large-en-v1.5/952a9b81c0bfd99800fabf352f69c7ccd46c5e43.lock\n",
      "DEBUG:urllib3.connectionpool:https://huggingface.co:443 \"HEAD /BAAI/bge-large-en-v1.5/resolve/main/config_sentence_transformers.json HTTP/1.1\" 200 0\n",
      "https://huggingface.co:443 \"HEAD /BAAI/bge-large-en-v1.5/resolve/main/config_sentence_transformers.json HTTP/1.1\" 200 0\n",
      "DEBUG:filelock:Attempting to acquire lock 281469340667328 on /tmp/llama_index/models/.locks/models--BAAI--bge-large-en-v1.5/dcb0c0d97d09b930d13600b1a773ddb27e441aab.lock\n",
      "Attempting to acquire lock 281469340667328 on /tmp/llama_index/models/.locks/models--BAAI--bge-large-en-v1.5/dcb0c0d97d09b930d13600b1a773ddb27e441aab.lock\n",
      "DEBUG:filelock:Lock 281469340667328 acquired on /tmp/llama_index/models/.locks/models--BAAI--bge-large-en-v1.5/dcb0c0d97d09b930d13600b1a773ddb27e441aab.lock\n",
      "Lock 281469340667328 acquired on /tmp/llama_index/models/.locks/models--BAAI--bge-large-en-v1.5/dcb0c0d97d09b930d13600b1a773ddb27e441aab.lock\n",
      "DEBUG:urllib3.connectionpool:https://huggingface.co:443 \"GET /BAAI/bge-large-en-v1.5/resolve/main/config_sentence_transformers.json HTTP/1.1\" 200 124\n",
      "https://huggingface.co:443 \"GET /BAAI/bge-large-en-v1.5/resolve/main/config_sentence_transformers.json HTTP/1.1\" 200 124\n"
     ]
    },
    {
     "data": {
      "application/vnd.jupyter.widget-view+json": {
       "model_id": "14df20f1c19244a8afd02e06c50bcde4",
       "version_major": 2,
       "version_minor": 0
      },
      "text/plain": [
       "config_sentence_transformers.json:   0%|          | 0.00/124 [00:00<?, ?B/s]"
      ]
     },
     "metadata": {},
     "output_type": "display_data"
    },
    {
     "name": "stdout",
     "output_type": "stream",
     "text": [
      "DEBUG:filelock:Attempting to release lock 281469340667328 on /tmp/llama_index/models/.locks/models--BAAI--bge-large-en-v1.5/dcb0c0d97d09b930d13600b1a773ddb27e441aab.lock\n",
      "Attempting to release lock 281469340667328 on /tmp/llama_index/models/.locks/models--BAAI--bge-large-en-v1.5/dcb0c0d97d09b930d13600b1a773ddb27e441aab.lock\n",
      "DEBUG:filelock:Lock 281469340667328 released on /tmp/llama_index/models/.locks/models--BAAI--bge-large-en-v1.5/dcb0c0d97d09b930d13600b1a773ddb27e441aab.lock\n",
      "Lock 281469340667328 released on /tmp/llama_index/models/.locks/models--BAAI--bge-large-en-v1.5/dcb0c0d97d09b930d13600b1a773ddb27e441aab.lock\n",
      "DEBUG:urllib3.connectionpool:https://huggingface.co:443 \"HEAD /BAAI/bge-large-en-v1.5/resolve/main/README.md HTTP/1.1\" 200 0\n",
      "https://huggingface.co:443 \"HEAD /BAAI/bge-large-en-v1.5/resolve/main/README.md HTTP/1.1\" 200 0\n",
      "DEBUG:filelock:Attempting to acquire lock 281469341244608 on /tmp/llama_index/models/.locks/models--BAAI--bge-large-en-v1.5/a5e0efee2a14fa9b1fea8a3cbacdab8f153bc49f.lock\n",
      "Attempting to acquire lock 281469341244608 on /tmp/llama_index/models/.locks/models--BAAI--bge-large-en-v1.5/a5e0efee2a14fa9b1fea8a3cbacdab8f153bc49f.lock\n",
      "DEBUG:filelock:Lock 281469341244608 acquired on /tmp/llama_index/models/.locks/models--BAAI--bge-large-en-v1.5/a5e0efee2a14fa9b1fea8a3cbacdab8f153bc49f.lock\n",
      "Lock 281469341244608 acquired on /tmp/llama_index/models/.locks/models--BAAI--bge-large-en-v1.5/a5e0efee2a14fa9b1fea8a3cbacdab8f153bc49f.lock\n",
      "DEBUG:urllib3.connectionpool:https://huggingface.co:443 \"GET /BAAI/bge-large-en-v1.5/resolve/main/README.md HTTP/1.1\" 200 94607\n",
      "https://huggingface.co:443 \"GET /BAAI/bge-large-en-v1.5/resolve/main/README.md HTTP/1.1\" 200 94607\n"
     ]
    },
    {
     "data": {
      "application/vnd.jupyter.widget-view+json": {
       "model_id": "4cb241c02b8a4cbb9329b627be871cc3",
       "version_major": 2,
       "version_minor": 0
      },
      "text/plain": [
       "README.md:   0%|          | 0.00/94.6k [00:00<?, ?B/s]"
      ]
     },
     "metadata": {},
     "output_type": "display_data"
    },
    {
     "name": "stdout",
     "output_type": "stream",
     "text": [
      "DEBUG:filelock:Attempting to release lock 281469341244608 on /tmp/llama_index/models/.locks/models--BAAI--bge-large-en-v1.5/a5e0efee2a14fa9b1fea8a3cbacdab8f153bc49f.lock\n",
      "Attempting to release lock 281469341244608 on /tmp/llama_index/models/.locks/models--BAAI--bge-large-en-v1.5/a5e0efee2a14fa9b1fea8a3cbacdab8f153bc49f.lock\n",
      "DEBUG:filelock:Lock 281469341244608 released on /tmp/llama_index/models/.locks/models--BAAI--bge-large-en-v1.5/a5e0efee2a14fa9b1fea8a3cbacdab8f153bc49f.lock\n",
      "Lock 281469341244608 released on /tmp/llama_index/models/.locks/models--BAAI--bge-large-en-v1.5/a5e0efee2a14fa9b1fea8a3cbacdab8f153bc49f.lock\n",
      "DEBUG:urllib3.connectionpool:https://huggingface.co:443 \"HEAD /BAAI/bge-large-en-v1.5/resolve/main/modules.json HTTP/1.1\" 200 0\n",
      "https://huggingface.co:443 \"HEAD /BAAI/bge-large-en-v1.5/resolve/main/modules.json HTTP/1.1\" 200 0\n",
      "DEBUG:urllib3.connectionpool:https://huggingface.co:443 \"HEAD /BAAI/bge-large-en-v1.5/resolve/main/sentence_bert_config.json HTTP/1.1\" 200 0\n",
      "https://huggingface.co:443 \"HEAD /BAAI/bge-large-en-v1.5/resolve/main/sentence_bert_config.json HTTP/1.1\" 200 0\n",
      "DEBUG:filelock:Attempting to acquire lock 281469341243888 on /tmp/llama_index/models/.locks/models--BAAI--bge-large-en-v1.5/ea85692bff64b0d1917833c31ddbca8ab10f5455.lock\n",
      "Attempting to acquire lock 281469341243888 on /tmp/llama_index/models/.locks/models--BAAI--bge-large-en-v1.5/ea85692bff64b0d1917833c31ddbca8ab10f5455.lock\n",
      "DEBUG:filelock:Lock 281469341243888 acquired on /tmp/llama_index/models/.locks/models--BAAI--bge-large-en-v1.5/ea85692bff64b0d1917833c31ddbca8ab10f5455.lock\n",
      "Lock 281469341243888 acquired on /tmp/llama_index/models/.locks/models--BAAI--bge-large-en-v1.5/ea85692bff64b0d1917833c31ddbca8ab10f5455.lock\n",
      "DEBUG:urllib3.connectionpool:https://huggingface.co:443 \"GET /BAAI/bge-large-en-v1.5/resolve/main/sentence_bert_config.json HTTP/1.1\" 200 52\n",
      "https://huggingface.co:443 \"GET /BAAI/bge-large-en-v1.5/resolve/main/sentence_bert_config.json HTTP/1.1\" 200 52\n"
     ]
    },
    {
     "data": {
      "application/vnd.jupyter.widget-view+json": {
       "model_id": "4c70991e36c347c29df82ef2b83ad723",
       "version_major": 2,
       "version_minor": 0
      },
      "text/plain": [
       "sentence_bert_config.json:   0%|          | 0.00/52.0 [00:00<?, ?B/s]"
      ]
     },
     "metadata": {},
     "output_type": "display_data"
    },
    {
     "name": "stdout",
     "output_type": "stream",
     "text": [
      "DEBUG:filelock:Attempting to release lock 281469341243888 on /tmp/llama_index/models/.locks/models--BAAI--bge-large-en-v1.5/ea85692bff64b0d1917833c31ddbca8ab10f5455.lock\n",
      "Attempting to release lock 281469341243888 on /tmp/llama_index/models/.locks/models--BAAI--bge-large-en-v1.5/ea85692bff64b0d1917833c31ddbca8ab10f5455.lock\n",
      "DEBUG:filelock:Lock 281469341243888 released on /tmp/llama_index/models/.locks/models--BAAI--bge-large-en-v1.5/ea85692bff64b0d1917833c31ddbca8ab10f5455.lock\n",
      "Lock 281469341243888 released on /tmp/llama_index/models/.locks/models--BAAI--bge-large-en-v1.5/ea85692bff64b0d1917833c31ddbca8ab10f5455.lock\n",
      "DEBUG:urllib3.connectionpool:https://huggingface.co:443 \"HEAD /BAAI/bge-large-en-v1.5/resolve/main/config.json HTTP/1.1\" 200 0\n",
      "https://huggingface.co:443 \"HEAD /BAAI/bge-large-en-v1.5/resolve/main/config.json HTTP/1.1\" 200 0\n",
      "DEBUG:filelock:Attempting to acquire lock 281469341246240 on /tmp/llama_index/models/.locks/models--BAAI--bge-large-en-v1.5/ab101ed8d012df683ef32f92cea51e97615ad07c.lock\n",
      "Attempting to acquire lock 281469341246240 on /tmp/llama_index/models/.locks/models--BAAI--bge-large-en-v1.5/ab101ed8d012df683ef32f92cea51e97615ad07c.lock\n",
      "DEBUG:filelock:Lock 281469341246240 acquired on /tmp/llama_index/models/.locks/models--BAAI--bge-large-en-v1.5/ab101ed8d012df683ef32f92cea51e97615ad07c.lock\n",
      "Lock 281469341246240 acquired on /tmp/llama_index/models/.locks/models--BAAI--bge-large-en-v1.5/ab101ed8d012df683ef32f92cea51e97615ad07c.lock\n",
      "DEBUG:urllib3.connectionpool:https://huggingface.co:443 \"GET /BAAI/bge-large-en-v1.5/resolve/main/config.json HTTP/1.1\" 200 779\n",
      "https://huggingface.co:443 \"GET /BAAI/bge-large-en-v1.5/resolve/main/config.json HTTP/1.1\" 200 779\n"
     ]
    },
    {
     "name": "stderr",
     "output_type": "stream",
     "text": [
      "/usr/local/lib/python3.10/dist-packages/huggingface_hub/file_download.py:1132: FutureWarning: `resume_download` is deprecated and will be removed in version 1.0.0. Downloads always resume when possible. If you want to force a new download, use `force_download=True`.\n",
      "  warnings.warn(\n"
     ]
    },
    {
     "data": {
      "application/vnd.jupyter.widget-view+json": {
       "model_id": "90c67a253416407086f75f0f6397a7b6",
       "version_major": 2,
       "version_minor": 0
      },
      "text/plain": [
       "config.json:   0%|          | 0.00/779 [00:00<?, ?B/s]"
      ]
     },
     "metadata": {},
     "output_type": "display_data"
    },
    {
     "name": "stdout",
     "output_type": "stream",
     "text": [
      "DEBUG:filelock:Attempting to release lock 281469341246240 on /tmp/llama_index/models/.locks/models--BAAI--bge-large-en-v1.5/ab101ed8d012df683ef32f92cea51e97615ad07c.lock\n",
      "Attempting to release lock 281469341246240 on /tmp/llama_index/models/.locks/models--BAAI--bge-large-en-v1.5/ab101ed8d012df683ef32f92cea51e97615ad07c.lock\n",
      "DEBUG:filelock:Lock 281469341246240 released on /tmp/llama_index/models/.locks/models--BAAI--bge-large-en-v1.5/ab101ed8d012df683ef32f92cea51e97615ad07c.lock\n",
      "Lock 281469341246240 released on /tmp/llama_index/models/.locks/models--BAAI--bge-large-en-v1.5/ab101ed8d012df683ef32f92cea51e97615ad07c.lock\n",
      "DEBUG:urllib3.connectionpool:https://huggingface.co:443 \"HEAD /BAAI/bge-large-en-v1.5/resolve/main/model.safetensors HTTP/1.1\" 302 0\n",
      "https://huggingface.co:443 \"HEAD /BAAI/bge-large-en-v1.5/resolve/main/model.safetensors HTTP/1.1\" 302 0\n",
      "DEBUG:filelock:Attempting to acquire lock 281469196727536 on /tmp/llama_index/models/.locks/models--BAAI--bge-large-en-v1.5/45e1954914e29bd74080e6c1510165274ff5279421c89f76c418878732f64ae7.lock\n",
      "Attempting to acquire lock 281469196727536 on /tmp/llama_index/models/.locks/models--BAAI--bge-large-en-v1.5/45e1954914e29bd74080e6c1510165274ff5279421c89f76c418878732f64ae7.lock\n",
      "DEBUG:filelock:Lock 281469196727536 acquired on /tmp/llama_index/models/.locks/models--BAAI--bge-large-en-v1.5/45e1954914e29bd74080e6c1510165274ff5279421c89f76c418878732f64ae7.lock\n",
      "Lock 281469196727536 acquired on /tmp/llama_index/models/.locks/models--BAAI--bge-large-en-v1.5/45e1954914e29bd74080e6c1510165274ff5279421c89f76c418878732f64ae7.lock\n",
      "DEBUG:urllib3.connectionpool:Starting new HTTPS connection (1): cdn-lfs.huggingface.co:443\n",
      "Starting new HTTPS connection (1): cdn-lfs.huggingface.co:443\n",
      "DEBUG:urllib3.connectionpool:https://cdn-lfs.huggingface.co:443 \"GET /repos/7c/ec/7cecfbbb1e5b2627468d5949100139a60d432b5f80aaae3359c693d3dfb99766/45e1954914e29bd74080e6c1510165274ff5279421c89f76c418878732f64ae7?response-content-disposition=attachment%3B+filename*%3DUTF-8%27%27model.safetensors%3B+filename%3D%22model.safetensors%22%3B&Expires=1716017744&Policy=eyJTdGF0ZW1lbnQiOlt7IkNvbmRpdGlvbiI6eyJEYXRlTGVzc1RoYW4iOnsiQVdTOkVwb2NoVGltZSI6MTcxNjAxNzc0NH19LCJSZXNvdXJjZSI6Imh0dHBzOi8vY2RuLWxmcy5odWdnaW5nZmFjZS5jby9yZXBvcy83Yy9lYy83Y2VjZmJiYjFlNWIyNjI3NDY4ZDU5NDkxMDAxMzlhNjBkNDMyYjVmODBhYWFlMzM1OWM2OTNkM2RmYjk5NzY2LzQ1ZTE5NTQ5MTRlMjliZDc0MDgwZTZjMTUxMDE2NTI3NGZmNTI3OTQyMWM4OWY3NmM0MTg4Nzg3MzJmNjRhZTc~cmVzcG9uc2UtY29udGVudC1kaXNwb3NpdGlvbj0qIn1dfQ__&Signature=cflqZFOxcFUhgl0M0duQRPiIJTPzdI1bR6DVPdfqU1XmUclTnR0YxOhsullfh8YGyAL2~YxznNd1pFcr1nRmty7YAwlLi9fT~gt32ScmeWUk15cntig5LQGHoA3T5lDnRwCQpJGiZFdRMEZFKYGdGoSu7VY3D3OcTmnH~5~IYiyK2J5nvBGFcceGS3Y4g9SkUJ2UjBnKlCj3G3G~hxawmM0VSlA~FvFKzw6JNlx4O1Yr2sjPwF7czmrCe87Du3grfUJCnybRt4aPKGjplupKOi~Q~TENSf6~E5UZUaM5VyVx1sGx5uszWj0oK7ov4z6nExcqxnxzZfImc5qf~XqBjA__&Key-Pair-Id=KVTP0A1DKRTAX HTTP/1.1\" 200 1340616616\n",
      "https://cdn-lfs.huggingface.co:443 \"GET /repos/7c/ec/7cecfbbb1e5b2627468d5949100139a60d432b5f80aaae3359c693d3dfb99766/45e1954914e29bd74080e6c1510165274ff5279421c89f76c418878732f64ae7?response-content-disposition=attachment%3B+filename*%3DUTF-8%27%27model.safetensors%3B+filename%3D%22model.safetensors%22%3B&Expires=1716017744&Policy=eyJTdGF0ZW1lbnQiOlt7IkNvbmRpdGlvbiI6eyJEYXRlTGVzc1RoYW4iOnsiQVdTOkVwb2NoVGltZSI6MTcxNjAxNzc0NH19LCJSZXNvdXJjZSI6Imh0dHBzOi8vY2RuLWxmcy5odWdnaW5nZmFjZS5jby9yZXBvcy83Yy9lYy83Y2VjZmJiYjFlNWIyNjI3NDY4ZDU5NDkxMDAxMzlhNjBkNDMyYjVmODBhYWFlMzM1OWM2OTNkM2RmYjk5NzY2LzQ1ZTE5NTQ5MTRlMjliZDc0MDgwZTZjMTUxMDE2NTI3NGZmNTI3OTQyMWM4OWY3NmM0MTg4Nzg3MzJmNjRhZTc~cmVzcG9uc2UtY29udGVudC1kaXNwb3NpdGlvbj0qIn1dfQ__&Signature=cflqZFOxcFUhgl0M0duQRPiIJTPzdI1bR6DVPdfqU1XmUclTnR0YxOhsullfh8YGyAL2~YxznNd1pFcr1nRmty7YAwlLi9fT~gt32ScmeWUk15cntig5LQGHoA3T5lDnRwCQpJGiZFdRMEZFKYGdGoSu7VY3D3OcTmnH~5~IYiyK2J5nvBGFcceGS3Y4g9SkUJ2UjBnKlCj3G3G~hxawmM0VSlA~FvFKzw6JNlx4O1Yr2sjPwF7czmrCe87Du3grfUJCnybRt4aPKGjplupKOi~Q~TENSf6~E5UZUaM5VyVx1sGx5uszWj0oK7ov4z6nExcqxnxzZfImc5qf~XqBjA__&Key-Pair-Id=KVTP0A1DKRTAX HTTP/1.1\" 200 1340616616\n"
     ]
    },
    {
     "data": {
      "application/vnd.jupyter.widget-view+json": {
       "model_id": "ce58d93517694895b8af9c3d0358a4ac",
       "version_major": 2,
       "version_minor": 0
      },
      "text/plain": [
       "model.safetensors:   0%|          | 0.00/1.34G [00:00<?, ?B/s]"
      ]
     },
     "metadata": {},
     "output_type": "display_data"
    },
    {
     "name": "stdout",
     "output_type": "stream",
     "text": [
      "DEBUG:filelock:Attempting to release lock 281469196727536 on /tmp/llama_index/models/.locks/models--BAAI--bge-large-en-v1.5/45e1954914e29bd74080e6c1510165274ff5279421c89f76c418878732f64ae7.lock\n",
      "Attempting to release lock 281469196727536 on /tmp/llama_index/models/.locks/models--BAAI--bge-large-en-v1.5/45e1954914e29bd74080e6c1510165274ff5279421c89f76c418878732f64ae7.lock\n",
      "DEBUG:filelock:Lock 281469196727536 released on /tmp/llama_index/models/.locks/models--BAAI--bge-large-en-v1.5/45e1954914e29bd74080e6c1510165274ff5279421c89f76c418878732f64ae7.lock\n",
      "Lock 281469196727536 released on /tmp/llama_index/models/.locks/models--BAAI--bge-large-en-v1.5/45e1954914e29bd74080e6c1510165274ff5279421c89f76c418878732f64ae7.lock\n",
      "DEBUG:urllib3.connectionpool:https://huggingface.co:443 \"HEAD /BAAI/bge-large-en-v1.5/resolve/main/tokenizer_config.json HTTP/1.1\" 200 0\n",
      "https://huggingface.co:443 \"HEAD /BAAI/bge-large-en-v1.5/resolve/main/tokenizer_config.json HTTP/1.1\" 200 0\n",
      "DEBUG:filelock:Attempting to acquire lock 281469341250560 on /tmp/llama_index/models/.locks/models--BAAI--bge-large-en-v1.5/37fca74771bc76a8e01178ce3a6055a0995f8093.lock\n",
      "Attempting to acquire lock 281469341250560 on /tmp/llama_index/models/.locks/models--BAAI--bge-large-en-v1.5/37fca74771bc76a8e01178ce3a6055a0995f8093.lock\n",
      "DEBUG:filelock:Lock 281469341250560 acquired on /tmp/llama_index/models/.locks/models--BAAI--bge-large-en-v1.5/37fca74771bc76a8e01178ce3a6055a0995f8093.lock\n",
      "Lock 281469341250560 acquired on /tmp/llama_index/models/.locks/models--BAAI--bge-large-en-v1.5/37fca74771bc76a8e01178ce3a6055a0995f8093.lock\n",
      "DEBUG:urllib3.connectionpool:https://huggingface.co:443 \"GET /BAAI/bge-large-en-v1.5/resolve/main/tokenizer_config.json HTTP/1.1\" 200 366\n",
      "https://huggingface.co:443 \"GET /BAAI/bge-large-en-v1.5/resolve/main/tokenizer_config.json HTTP/1.1\" 200 366\n"
     ]
    },
    {
     "data": {
      "application/vnd.jupyter.widget-view+json": {
       "model_id": "a2d73f1011cc40f6809311f51dbaa4b9",
       "version_major": 2,
       "version_minor": 0
      },
      "text/plain": [
       "tokenizer_config.json:   0%|          | 0.00/366 [00:00<?, ?B/s]"
      ]
     },
     "metadata": {},
     "output_type": "display_data"
    },
    {
     "name": "stdout",
     "output_type": "stream",
     "text": [
      "DEBUG:filelock:Attempting to release lock 281469341250560 on /tmp/llama_index/models/.locks/models--BAAI--bge-large-en-v1.5/37fca74771bc76a8e01178ce3a6055a0995f8093.lock\n",
      "Attempting to release lock 281469341250560 on /tmp/llama_index/models/.locks/models--BAAI--bge-large-en-v1.5/37fca74771bc76a8e01178ce3a6055a0995f8093.lock\n",
      "DEBUG:filelock:Lock 281469341250560 released on /tmp/llama_index/models/.locks/models--BAAI--bge-large-en-v1.5/37fca74771bc76a8e01178ce3a6055a0995f8093.lock\n",
      "Lock 281469341250560 released on /tmp/llama_index/models/.locks/models--BAAI--bge-large-en-v1.5/37fca74771bc76a8e01178ce3a6055a0995f8093.lock\n",
      "DEBUG:urllib3.connectionpool:https://huggingface.co:443 \"HEAD /BAAI/bge-large-en-v1.5/resolve/main/vocab.txt HTTP/1.1\" 200 0\n",
      "https://huggingface.co:443 \"HEAD /BAAI/bge-large-en-v1.5/resolve/main/vocab.txt HTTP/1.1\" 200 0\n",
      "DEBUG:filelock:Attempting to acquire lock 281469192624816 on /tmp/llama_index/models/.locks/models--BAAI--bge-large-en-v1.5/fb140275c155a9c7c5a3b3e0e77a9e839594a938.lock\n",
      "Attempting to acquire lock 281469192624816 on /tmp/llama_index/models/.locks/models--BAAI--bge-large-en-v1.5/fb140275c155a9c7c5a3b3e0e77a9e839594a938.lock\n",
      "DEBUG:filelock:Lock 281469192624816 acquired on /tmp/llama_index/models/.locks/models--BAAI--bge-large-en-v1.5/fb140275c155a9c7c5a3b3e0e77a9e839594a938.lock\n",
      "Lock 281469192624816 acquired on /tmp/llama_index/models/.locks/models--BAAI--bge-large-en-v1.5/fb140275c155a9c7c5a3b3e0e77a9e839594a938.lock\n",
      "DEBUG:urllib3.connectionpool:https://huggingface.co:443 \"GET /BAAI/bge-large-en-v1.5/resolve/main/vocab.txt HTTP/1.1\" 200 231508\n",
      "https://huggingface.co:443 \"GET /BAAI/bge-large-en-v1.5/resolve/main/vocab.txt HTTP/1.1\" 200 231508\n"
     ]
    },
    {
     "data": {
      "application/vnd.jupyter.widget-view+json": {
       "model_id": "038bb3a0cfb545ca948443cef6e9f57e",
       "version_major": 2,
       "version_minor": 0
      },
      "text/plain": [
       "vocab.txt:   0%|          | 0.00/232k [00:00<?, ?B/s]"
      ]
     },
     "metadata": {},
     "output_type": "display_data"
    },
    {
     "name": "stdout",
     "output_type": "stream",
     "text": [
      "DEBUG:filelock:Attempting to release lock 281469192624816 on /tmp/llama_index/models/.locks/models--BAAI--bge-large-en-v1.5/fb140275c155a9c7c5a3b3e0e77a9e839594a938.lock\n",
      "Attempting to release lock 281469192624816 on /tmp/llama_index/models/.locks/models--BAAI--bge-large-en-v1.5/fb140275c155a9c7c5a3b3e0e77a9e839594a938.lock\n",
      "DEBUG:filelock:Lock 281469192624816 released on /tmp/llama_index/models/.locks/models--BAAI--bge-large-en-v1.5/fb140275c155a9c7c5a3b3e0e77a9e839594a938.lock\n",
      "Lock 281469192624816 released on /tmp/llama_index/models/.locks/models--BAAI--bge-large-en-v1.5/fb140275c155a9c7c5a3b3e0e77a9e839594a938.lock\n",
      "DEBUG:urllib3.connectionpool:https://huggingface.co:443 \"HEAD /BAAI/bge-large-en-v1.5/resolve/main/tokenizer.json HTTP/1.1\" 200 0\n",
      "https://huggingface.co:443 \"HEAD /BAAI/bge-large-en-v1.5/resolve/main/tokenizer.json HTTP/1.1\" 200 0\n",
      "DEBUG:filelock:Attempting to acquire lock 281469192624192 on /tmp/llama_index/models/.locks/models--BAAI--bge-large-en-v1.5/688882a79f44442ddc1f60d70334a7ff5df0fb47.lock\n",
      "Attempting to acquire lock 281469192624192 on /tmp/llama_index/models/.locks/models--BAAI--bge-large-en-v1.5/688882a79f44442ddc1f60d70334a7ff5df0fb47.lock\n",
      "DEBUG:filelock:Lock 281469192624192 acquired on /tmp/llama_index/models/.locks/models--BAAI--bge-large-en-v1.5/688882a79f44442ddc1f60d70334a7ff5df0fb47.lock\n",
      "Lock 281469192624192 acquired on /tmp/llama_index/models/.locks/models--BAAI--bge-large-en-v1.5/688882a79f44442ddc1f60d70334a7ff5df0fb47.lock\n",
      "DEBUG:urllib3.connectionpool:https://huggingface.co:443 \"GET /BAAI/bge-large-en-v1.5/resolve/main/tokenizer.json HTTP/1.1\" 200 711396\n",
      "https://huggingface.co:443 \"GET /BAAI/bge-large-en-v1.5/resolve/main/tokenizer.json HTTP/1.1\" 200 711396\n"
     ]
    },
    {
     "data": {
      "application/vnd.jupyter.widget-view+json": {
       "model_id": "59a7c626ec944650b62ae356bda8d4cd",
       "version_major": 2,
       "version_minor": 0
      },
      "text/plain": [
       "tokenizer.json:   0%|          | 0.00/711k [00:00<?, ?B/s]"
      ]
     },
     "metadata": {},
     "output_type": "display_data"
    },
    {
     "name": "stdout",
     "output_type": "stream",
     "text": [
      "DEBUG:filelock:Attempting to release lock 281469192624192 on /tmp/llama_index/models/.locks/models--BAAI--bge-large-en-v1.5/688882a79f44442ddc1f60d70334a7ff5df0fb47.lock\n",
      "Attempting to release lock 281469192624192 on /tmp/llama_index/models/.locks/models--BAAI--bge-large-en-v1.5/688882a79f44442ddc1f60d70334a7ff5df0fb47.lock\n",
      "DEBUG:filelock:Lock 281469192624192 released on /tmp/llama_index/models/.locks/models--BAAI--bge-large-en-v1.5/688882a79f44442ddc1f60d70334a7ff5df0fb47.lock\n",
      "Lock 281469192624192 released on /tmp/llama_index/models/.locks/models--BAAI--bge-large-en-v1.5/688882a79f44442ddc1f60d70334a7ff5df0fb47.lock\n",
      "DEBUG:urllib3.connectionpool:https://huggingface.co:443 \"HEAD /BAAI/bge-large-en-v1.5/resolve/main/added_tokens.json HTTP/1.1\" 404 0\n",
      "https://huggingface.co:443 \"HEAD /BAAI/bge-large-en-v1.5/resolve/main/added_tokens.json HTTP/1.1\" 404 0\n",
      "DEBUG:urllib3.connectionpool:https://huggingface.co:443 \"HEAD /BAAI/bge-large-en-v1.5/resolve/main/special_tokens_map.json HTTP/1.1\" 200 0\n",
      "https://huggingface.co:443 \"HEAD /BAAI/bge-large-en-v1.5/resolve/main/special_tokens_map.json HTTP/1.1\" 200 0\n",
      "DEBUG:filelock:Attempting to acquire lock 281469192631536 on /tmp/llama_index/models/.locks/models--BAAI--bge-large-en-v1.5/a8b3208c2884c4efb86e49300fdd3dc877220cdf.lock\n",
      "Attempting to acquire lock 281469192631536 on /tmp/llama_index/models/.locks/models--BAAI--bge-large-en-v1.5/a8b3208c2884c4efb86e49300fdd3dc877220cdf.lock\n",
      "DEBUG:filelock:Lock 281469192631536 acquired on /tmp/llama_index/models/.locks/models--BAAI--bge-large-en-v1.5/a8b3208c2884c4efb86e49300fdd3dc877220cdf.lock\n",
      "Lock 281469192631536 acquired on /tmp/llama_index/models/.locks/models--BAAI--bge-large-en-v1.5/a8b3208c2884c4efb86e49300fdd3dc877220cdf.lock\n",
      "DEBUG:urllib3.connectionpool:https://huggingface.co:443 \"GET /BAAI/bge-large-en-v1.5/resolve/main/special_tokens_map.json HTTP/1.1\" 200 125\n",
      "https://huggingface.co:443 \"GET /BAAI/bge-large-en-v1.5/resolve/main/special_tokens_map.json HTTP/1.1\" 200 125\n"
     ]
    },
    {
     "data": {
      "application/vnd.jupyter.widget-view+json": {
       "model_id": "926fe5e4fcd94bfeb16cd1a7be554e97",
       "version_major": 2,
       "version_minor": 0
      },
      "text/plain": [
       "special_tokens_map.json:   0%|          | 0.00/125 [00:00<?, ?B/s]"
      ]
     },
     "metadata": {},
     "output_type": "display_data"
    },
    {
     "name": "stdout",
     "output_type": "stream",
     "text": [
      "DEBUG:filelock:Attempting to release lock 281469192631536 on /tmp/llama_index/models/.locks/models--BAAI--bge-large-en-v1.5/a8b3208c2884c4efb86e49300fdd3dc877220cdf.lock\n",
      "Attempting to release lock 281469192631536 on /tmp/llama_index/models/.locks/models--BAAI--bge-large-en-v1.5/a8b3208c2884c4efb86e49300fdd3dc877220cdf.lock\n",
      "DEBUG:filelock:Lock 281469192631536 released on /tmp/llama_index/models/.locks/models--BAAI--bge-large-en-v1.5/a8b3208c2884c4efb86e49300fdd3dc877220cdf.lock\n",
      "Lock 281469192631536 released on /tmp/llama_index/models/.locks/models--BAAI--bge-large-en-v1.5/a8b3208c2884c4efb86e49300fdd3dc877220cdf.lock\n",
      "DEBUG:urllib3.connectionpool:https://huggingface.co:443 \"GET /api/models/BAAI/bge-large-en-v1.5/revision/main HTTP/1.1\" 200 147524\n",
      "https://huggingface.co:443 \"GET /api/models/BAAI/bge-large-en-v1.5/revision/main HTTP/1.1\" 200 147524\n",
      "DEBUG:urllib3.connectionpool:Starting new HTTPS connection (1): huggingface.co:443\n",
      "Starting new HTTPS connection (1): huggingface.co:443\n",
      "DEBUG:urllib3.connectionpool:https://huggingface.co:443 \"HEAD /BAAI/bge-large-en-v1.5/resolve/d4aa6901d3a41ba39fb536a557fa166f842b0e09/1_Pooling/config.json HTTP/1.1\" 200 0\n",
      "https://huggingface.co:443 \"HEAD /BAAI/bge-large-en-v1.5/resolve/d4aa6901d3a41ba39fb536a557fa166f842b0e09/1_Pooling/config.json HTTP/1.1\" 200 0\n",
      "DEBUG:filelock:Attempting to acquire lock 281469191360944 on /tmp/llama_index/models/.locks/models--BAAI--bge-large-en-v1.5/9bd85925f325e25246d94c4918dc02ab98f2a1b7.lock\n",
      "Attempting to acquire lock 281469191360944 on /tmp/llama_index/models/.locks/models--BAAI--bge-large-en-v1.5/9bd85925f325e25246d94c4918dc02ab98f2a1b7.lock\n",
      "DEBUG:filelock:Lock 281469191360944 acquired on /tmp/llama_index/models/.locks/models--BAAI--bge-large-en-v1.5/9bd85925f325e25246d94c4918dc02ab98f2a1b7.lock\n",
      "Lock 281469191360944 acquired on /tmp/llama_index/models/.locks/models--BAAI--bge-large-en-v1.5/9bd85925f325e25246d94c4918dc02ab98f2a1b7.lock\n",
      "DEBUG:urllib3.connectionpool:https://huggingface.co:443 \"GET /BAAI/bge-large-en-v1.5/resolve/d4aa6901d3a41ba39fb536a557fa166f842b0e09/1_Pooling/config.json HTTP/1.1\" 200 191\n",
      "https://huggingface.co:443 \"GET /BAAI/bge-large-en-v1.5/resolve/d4aa6901d3a41ba39fb536a557fa166f842b0e09/1_Pooling/config.json HTTP/1.1\" 200 191\n"
     ]
    },
    {
     "data": {
      "application/vnd.jupyter.widget-view+json": {
       "model_id": "ce3e9845cffc472e805ec2fd74fcfe1c",
       "version_major": 2,
       "version_minor": 0
      },
      "text/plain": [
       "1_Pooling/config.json:   0%|          | 0.00/191 [00:00<?, ?B/s]"
      ]
     },
     "metadata": {},
     "output_type": "display_data"
    },
    {
     "name": "stdout",
     "output_type": "stream",
     "text": [
      "DEBUG:filelock:Attempting to release lock 281469191360944 on /tmp/llama_index/models/.locks/models--BAAI--bge-large-en-v1.5/9bd85925f325e25246d94c4918dc02ab98f2a1b7.lock\n",
      "Attempting to release lock 281469191360944 on /tmp/llama_index/models/.locks/models--BAAI--bge-large-en-v1.5/9bd85925f325e25246d94c4918dc02ab98f2a1b7.lock\n",
      "DEBUG:filelock:Lock 281469191360944 released on /tmp/llama_index/models/.locks/models--BAAI--bge-large-en-v1.5/9bd85925f325e25246d94c4918dc02ab98f2a1b7.lock\n",
      "Lock 281469191360944 released on /tmp/llama_index/models/.locks/models--BAAI--bge-large-en-v1.5/9bd85925f325e25246d94c4918dc02ab98f2a1b7.lock\n",
      "INFO:sentence_transformers.SentenceTransformer:2 prompts are loaded, with the keys: ['query', 'text']\n",
      "2 prompts are loaded, with the keys: ['query', 'text']\n"
     ]
    }
   ],
   "source": [
    "# bge embedding model\n",
    "Settings.embed_model = resolve_embed_model(\"local:BAAI/bge-large-en-v1.5\")"
   ]
  },
  {
   "cell_type": "code",
   "execution_count": 8,
   "id": "4cad9359-8c60-46a9-8acb-ca0ad1b79abc",
   "metadata": {
    "tags": []
   },
   "outputs": [],
   "source": [
    "# ollama\n",
    "Settings.llm = Ollama(model=\"llama3\", request_timeout=300.0)"
   ]
  },
  {
   "cell_type": "code",
   "execution_count": 9,
   "id": "b9dd0b9e-cf1d-48f3-8e4d-75f7fa7130c9",
   "metadata": {
    "tags": []
   },
   "outputs": [],
   "source": [
    "# Enlarge the chunk size from the default 1024\n",
    "Settings.chunk_size = 4096\n",
    "Settings.chunk_overlap = 200"
   ]
  },
  {
   "cell_type": "code",
   "execution_count": 10,
   "id": "ccd18df3-d52a-4002-8884-64c79401849b",
   "metadata": {
    "tags": []
   },
   "outputs": [
    {
     "name": "stdout",
     "output_type": "stream",
     "text": [
      "DEBUG:llama_index.core.node_parser.node_utils:> Adding chunk: 1==============================================...\n",
      "> Adding chunk: 1==============================================...\n",
      "DEBUG:llama_index.core.node_parser.node_utils:> Adding chunk: 2==============================================...\n",
      "> Adding chunk: 2==============================================...\n",
      "DEBUG:llama_index.core.node_parser.node_utils:> Adding chunk: 3==============================================...\n",
      "> Adding chunk: 3==============================================...\n",
      "DEBUG:llama_index.core.node_parser.node_utils:> Adding chunk: 4==============================================...\n",
      "> Adding chunk: 4==============================================...\n"
     ]
    },
    {
     "data": {
      "application/vnd.jupyter.widget-view+json": {
       "model_id": "d93cc477996845b485a3f86ed4cac139",
       "version_major": 2,
       "version_minor": 0
      },
      "text/plain": [
       "Batches:   0%|          | 0/1 [00:00<?, ?it/s]"
      ]
     },
     "metadata": {},
     "output_type": "display_data"
    }
   ],
   "source": [
    "index = VectorStoreIndex.from_documents(documents)"
   ]
  },
  {
   "cell_type": "code",
   "execution_count": 11,
   "id": "5cd69846-fd2d-408b-bb61-4fbc28e85f55",
   "metadata": {
    "tags": []
   },
   "outputs": [
    {
     "name": "stdout",
     "output_type": "stream",
     "text": [
      "DEBUG:fsspec.local:open file: /opt/llama-index/storage/docstore.json\n",
      "open file: /opt/llama-index/storage/docstore.json\n",
      "DEBUG:fsspec.local:open file: /opt/llama-index/storage/index_store.json\n",
      "open file: /opt/llama-index/storage/index_store.json\n",
      "DEBUG:fsspec.local:open file: /opt/llama-index/storage/graph_store.json\n",
      "open file: /opt/llama-index/storage/graph_store.json\n",
      "DEBUG:fsspec.local:open file: /opt/llama-index/storage/default__vector_store.json\n",
      "open file: /opt/llama-index/storage/default__vector_store.json\n",
      "DEBUG:fsspec.local:open file: /opt/llama-index/storage/image__vector_store.json\n",
      "open file: /opt/llama-index/storage/image__vector_store.json\n"
     ]
    }
   ],
   "source": [
    "index.storage_context.persist()"
   ]
  },
  {
   "cell_type": "code",
   "execution_count": 12,
   "id": "5212c1ac-8341-470d-b942-af4971dd9e87",
   "metadata": {},
   "outputs": [
    {
     "name": "stdout",
     "output_type": "stream",
     "text": [
      "4.0K\t./storage/index_store.json\n",
      "92K\t./storage/default__vector_store.json\n",
      "4.0K\t./storage/graph_store.json\n",
      "4.0K\t./storage/image__vector_store.json\n",
      "28K\t./storage/docstore.json\n",
      "136K\t./storage\n"
     ]
    },
    {
     "name": "stderr",
     "output_type": "stream",
     "text": [
      "huggingface/tokenizers: The current process just got forked, after parallelism has already been used. Disabling parallelism to avoid deadlocks...\n",
      "To disable this warning, you can either:\n",
      "\t- Avoid using `tokenizers` before the fork if possible\n",
      "\t- Explicitly set the environment variable TOKENIZERS_PARALLELISM=(true | false)\n"
     ]
    }
   ],
   "source": [
    "!du -ah ./storage"
   ]
  },
  {
   "cell_type": "markdown",
   "id": "6934e64e-4fa2-4a12-af1e-7a582ed63fef",
   "metadata": {},
   "source": [
    "## Query your data"
   ]
  },
  {
   "cell_type": "code",
   "execution_count": 13,
   "id": "6be1d7cd-7fe1-4a5f-a498-5bf486a38c58",
   "metadata": {
    "tags": []
   },
   "outputs": [],
   "source": [
    "query_engine = index.as_query_engine()"
   ]
  },
  {
   "cell_type": "code",
   "execution_count": 15,
   "id": "3f23e03d-acf3-4dc3-9416-d6c57424e356",
   "metadata": {
    "tags": []
   },
   "outputs": [
    {
     "data": {
      "application/vnd.jupyter.widget-view+json": {
       "model_id": "e9dbb2ecd0f54bc6a37366a8f14ba383",
       "version_major": 2,
       "version_minor": 0
      },
      "text/plain": [
       "Batches:   0%|          | 0/1 [00:00<?, ?it/s]"
      ]
     },
     "metadata": {},
     "output_type": "display_data"
    },
    {
     "name": "stdout",
     "output_type": "stream",
     "text": [
      "DEBUG:llama_index.core.indices.utils:> Top 2 nodes:\n",
      "> [Node b4a666c6-cfb0-4df1-a491-8e195e386d3d] [Similarity score:             0.681906] 1======================================================================\n",
      "                        ...\n",
      "> [Node a4c3ccd1-ec70-4a15-a4e8-45271e89545a] [Similarity score:             0.653431] 2======================================================================\n",
      "                        ...\n",
      "> Top 2 nodes:\n",
      "> [Node b4a666c6-cfb0-4df1-a491-8e195e386d3d] [Similarity score:             0.681906] 1======================================================================\n",
      "                        ...\n",
      "> [Node a4c3ccd1-ec70-4a15-a4e8-45271e89545a] [Similarity score:             0.653431] 2======================================================================\n",
      "                        ...\n",
      "DEBUG:httpx:load_ssl_context verify=True cert=None trust_env=True http2=False\n",
      "load_ssl_context verify=True cert=None trust_env=True http2=False\n",
      "DEBUG:httpx:load_verify_locations cafile='/usr/local/lib/python3.10/dist-packages/certifi/cacert.pem'\n",
      "load_verify_locations cafile='/usr/local/lib/python3.10/dist-packages/certifi/cacert.pem'\n",
      "DEBUG:httpcore.connection:connect_tcp.started host='localhost' port=11434 local_address=None timeout=300.0 socket_options=None\n",
      "connect_tcp.started host='localhost' port=11434 local_address=None timeout=300.0 socket_options=None\n",
      "DEBUG:httpcore.connection:connect_tcp.complete return_value=<httpcore._backends.sync.SyncStream object at 0xfffeb010ce50>\n",
      "connect_tcp.complete return_value=<httpcore._backends.sync.SyncStream object at 0xfffeb010ce50>\n",
      "DEBUG:httpcore.http11:send_request_headers.started request=<Request [b'POST']>\n",
      "send_request_headers.started request=<Request [b'POST']>\n",
      "DEBUG:httpcore.http11:send_request_headers.complete\n",
      "send_request_headers.complete\n",
      "DEBUG:httpcore.http11:send_request_body.started request=<Request [b'POST']>\n",
      "send_request_body.started request=<Request [b'POST']>\n",
      "DEBUG:httpcore.http11:send_request_body.complete\n",
      "send_request_body.complete\n",
      "DEBUG:httpcore.http11:receive_response_headers.started request=<Request [b'POST']>\n",
      "receive_response_headers.started request=<Request [b'POST']>\n",
      "DEBUG:httpcore.http11:receive_response_headers.complete return_value=(b'HTTP/1.1', 200, b'OK', [(b'Content-Type', b'application/json; charset=utf-8'), (b'Date', b'Wed, 15 May 2024 07:38:13 GMT'), (b'Content-Length', b'780')])\n",
      "receive_response_headers.complete return_value=(b'HTTP/1.1', 200, b'OK', [(b'Content-Type', b'application/json; charset=utf-8'), (b'Date', b'Wed, 15 May 2024 07:38:13 GMT'), (b'Content-Length', b'780')])\n",
      "INFO:httpx:HTTP Request: POST http://localhost:11434/api/chat \"HTTP/1.1 200 OK\"\n",
      "HTTP Request: POST http://localhost:11434/api/chat \"HTTP/1.1 200 OK\"\n",
      "DEBUG:httpcore.http11:receive_response_body.started request=<Request [b'POST']>\n",
      "receive_response_body.started request=<Request [b'POST']>\n",
      "DEBUG:httpcore.http11:receive_response_body.complete\n",
      "receive_response_body.complete\n",
      "DEBUG:httpcore.http11:response_closed.started\n",
      "response_closed.started\n",
      "DEBUG:httpcore.http11:response_closed.complete\n",
      "response_closed.complete\n",
      "DEBUG:httpcore.connection:close.started\n",
      "close.started\n",
      "DEBUG:httpcore.connection:close.complete\n",
      "close.complete\n"
     ]
    }
   ],
   "source": [
    "response = query_engine.query(\n",
    "    \"What IPv4 address Jetson device gets assigned when connected to a PC with a USB cable? \\\n",
    "    And what file to edit in order to change the IP address to be assigned to Jetson itself in USB device mode? \\\n",
    "    Plesae state which section you find the answer for each question.\"\n",
    ")"
   ]
  },
  {
   "cell_type": "code",
   "execution_count": 16,
   "id": "5fc566dd-e2c7-41d9-8f9e-3de55cfde2d7",
   "metadata": {
    "tags": []
   },
   "outputs": [
    {
     "data": {
      "text/markdown": [
       "<b>Query: What IPv4 address Jetson device gets assigned when connected to a PC with a USB cable?\n",
       "\n",
       "Answer: The Jetson device gets assigned an IPv4 address of 192.168.55.1 (Section: Using Ethernet Protocol)\n",
       "\n",
       "Query: And what file to edit in order to change the IP address to be assigned to Jetson itself in USB device mode?\n",
       "\n",
       "Answer: Edit /opt/nvidia/l4t-usb-device-mode/nv-l4t-usb-device-mode-config.sh on Jetson to change the IPv4 network parameters (Section: Changing the IPv4 Address)</b>"
      ],
      "text/plain": [
       "<IPython.core.display.Markdown object>"
      ]
     },
     "metadata": {},
     "output_type": "display_data"
    }
   ],
   "source": [
    "from IPython.display import Markdown, display\n",
    "\n",
    "display(Markdown(f\"<b>{response}</b>\"))"
   ]
  },
  {
   "cell_type": "code",
   "execution_count": null,
   "id": "5ebc6b55-4739-4c38-990e-3c7ff87f743f",
   "metadata": {},
   "outputs": [],
   "source": []
  }
 ],
 "metadata": {
  "kernelspec": {
   "display_name": "Python 3 (ipykernel)",
   "language": "python",
   "name": "python3"
  },
  "language_info": {
   "codemirror_mode": {
    "name": "ipython",
    "version": 3
   },
   "file_extension": ".py",
   "mimetype": "text/x-python",
   "name": "python",
   "nbconvert_exporter": "python",
   "pygments_lexer": "ipython3",
   "version": "3.10.12"
  }
 },
 "nbformat": 4,
 "nbformat_minor": 5
}
