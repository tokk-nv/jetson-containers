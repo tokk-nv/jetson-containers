{
 "cells": [
  {
   "cell_type": "markdown",
   "id": "1755d1f0-f19f-4438-a249-f8c3d487543e",
   "metadata": {},
   "source": [
    "# LlamaIndex - Starter Tutorial (Local Models)\n",
    "\n",
    "This tutorial is based on LlamaIndexofficial docs tutorial ([https://docs.llamaindex.ai/en/stable/getting_started/starter_example_local/](https://docs.llamaindex.ai/en/stable/getting_started/starter_example_local/#starter-tutorial-local-models)):"
   ]
  },
  {
   "cell_type": "markdown",
   "id": "f597b254-c829-4e34-8480-f0aba098204d",
   "metadata": {
    "tags": []
   },
   "source": [
    "## Download data and folder setup\n",
    "\n",
    "On the Docker host side, run the following to set up the `jetson-containers`' `/data` directory.\n",
    "\n",
    "Your directory structure should look like this:\n",
    "\n",
    "```\n",
    "└── ./data/documents/L4T-README\n",
    "    ├── README-usb-dev-mode.txt\n",
    "    ├── README-vnc.txt\n",
    "    └── README-wifi.txt\n",
    "```"
   ]
  },
  {
   "cell_type": "code",
   "execution_count": null,
   "id": "56b07549-9383-456d-8ffb-216fa8bd3cf3",
   "metadata": {
    "tags": []
   },
   "outputs": [],
   "source": [
    "!ls -lR /data/documents/"
   ]
  },
  {
   "cell_type": "markdown",
   "id": "225331c0-da65-4d9f-98cb-923bd5908840",
   "metadata": {
    "tags": []
   },
   "source": [
    "> If not, run the following cell to copy the files."
   ]
  },
  {
   "cell_type": "code",
   "execution_count": null,
   "id": "bc5a5d59-1bc6-421f-80be-a740229ac7fc",
   "metadata": {
    "tags": []
   },
   "outputs": [],
   "source": [
    "!mkdir -p /data/documents/L4T-README\n",
    "!cp ./L4T-README/*.txt /data/documents/L4T-README"
   ]
  },
  {
   "cell_type": "markdown",
   "id": "3ce69b57-77e6-4545-8dc1-a20bf4d91246",
   "metadata": {
    "tags": []
   },
   "source": [
    "> Or run the following commands **on Docker host side (natively on Jetson)**\n",
    "\n",
    "```\n",
    "cd jetson-containers\n",
    "mkdir -p data/documents/L4T-README\n",
    "cp /media/jetson/L4T-README/*.txt data/documents/L4T-README/\n",
    "```"
   ]
  },
  {
   "cell_type": "markdown",
   "id": "e191cda6",
   "metadata": {},
   "source": [
    "## Download the Llama2 model\n",
    "\n",
    "Check if you have Llama2 13B model downloaded."
   ]
  },
  {
   "cell_type": "code",
   "execution_count": null,
   "id": "0456c238-5450-422f-8936-b6a07d82fb3b",
   "metadata": {
    "tags": []
   },
   "outputs": [],
   "source": [
    "!ollama list"
   ]
  },
  {
   "cell_type": "markdown",
   "id": "69b8093f-31a8-4687-aaf0-260f90b5f34a",
   "metadata": {},
   "source": [
    "> If not, run the following cell to download the Llama2 model using `ollama` command."
   ]
  },
  {
   "cell_type": "code",
   "execution_count": null,
   "id": "c627300c",
   "metadata": {},
   "outputs": [],
   "source": [
    "!ollama pull llama2:13b"
   ]
  },
  {
   "cell_type": "markdown",
   "id": "b353751b-c598-4388-9680-bcabe7ffa9b2",
   "metadata": {
    "tags": []
   },
   "source": [
    "## Load data and build an index"
   ]
  },
  {
   "cell_type": "markdown",
   "id": "9c87cfee-6219-4376-8e59-509a622c8115",
   "metadata": {},
   "source": [
    "Enable DEBUG output."
   ]
  },
  {
   "cell_type": "code",
   "execution_count": null,
   "id": "2634dfa3-1263-42b9-901d-004f5166e38e",
   "metadata": {
    "tags": []
   },
   "outputs": [],
   "source": [
    "from llama_index.core import VectorStoreIndex, SimpleDirectoryReader, Settings\n",
    "from llama_index.core.embeddings import resolve_embed_model\n",
    "from llama_index.llms.ollama import Ollama\n",
    "\n",
    "import logging\n",
    "import sys\n",
    "# import llama_index.core\n",
    "\n",
    "# llama_index.core.set_global_handler(\"simple\")\n",
    "logging.basicConfig(stream=sys.stdout, level=logging.DEBUG)\n",
    "logging.getLogger().addHandler(logging.StreamHandler(stream=sys.stdout))"
   ]
  },
  {
   "cell_type": "code",
   "execution_count": null,
   "id": "a7be6e88-dfde-432c-be4d-f843b34336dd",
   "metadata": {
    "tags": []
   },
   "outputs": [],
   "source": [
    "reader = SimpleDirectoryReader(input_dir=\"/data/documents/L4T-README/\")"
   ]
  },
  {
   "cell_type": "code",
   "execution_count": null,
   "id": "85d110b4-2a30-4f0c-af81-85a41d720d49",
   "metadata": {
    "tags": []
   },
   "outputs": [],
   "source": [
    "documents = reader.load_data()"
   ]
  },
  {
   "cell_type": "code",
   "execution_count": null,
   "id": "7d67b299-fdb8-469f-950c-070220b48965",
   "metadata": {
    "tags": []
   },
   "outputs": [],
   "source": [
    "len(documents)"
   ]
  },
  {
   "cell_type": "code",
   "execution_count": null,
   "id": "315b478d-c721-4863-83fc-ea57caa73d8b",
   "metadata": {
    "tags": []
   },
   "outputs": [],
   "source": [
    "# bge embedding model\n",
    "Settings.embed_model = resolve_embed_model(\"local:BAAI/bge-large-en-v1.5\")"
   ]
  },
  {
   "cell_type": "code",
   "execution_count": null,
   "id": "4cad9359-8c60-46a9-8acb-ca0ad1b79abc",
   "metadata": {
    "tags": []
   },
   "outputs": [],
   "source": [
    "# ollama\n",
    "Settings.llm = Ollama(model=\"llama2:13b\", request_timeout=300.0)"
   ]
  },
  {
   "cell_type": "code",
   "execution_count": null,
   "id": "b9dd0b9e-cf1d-48f3-8e4d-75f7fa7130c9",
   "metadata": {
    "tags": []
   },
   "outputs": [],
   "source": [
    "# Enlarge the chunk size from the default 1024\n",
    "Settings.chunk_size = 4096\n",
    "Settings.chunk_overlap = 200"
   ]
  },
  {
   "cell_type": "code",
   "execution_count": null,
   "id": "ccd18df3-d52a-4002-8884-64c79401849b",
   "metadata": {
    "tags": []
   },
   "outputs": [],
   "source": [
    "index = VectorStoreIndex.from_documents(documents)"
   ]
  },
  {
   "cell_type": "markdown",
   "id": "4f1a4dfa-596d-4261-b09c-031d171d422e",
   "metadata": {},
   "source": [
    "You can check what's indexed by saving in `storage` directory."
   ]
  },
  {
   "cell_type": "code",
   "execution_count": null,
   "id": "5cd69846-fd2d-408b-bb61-4fbc28e85f55",
   "metadata": {
    "tags": []
   },
   "outputs": [],
   "source": [
    "index.storage_context.persist()"
   ]
  },
  {
   "cell_type": "markdown",
   "id": "6934e64e-4fa2-4a12-af1e-7a582ed63fef",
   "metadata": {},
   "source": [
    "## Query your data"
   ]
  },
  {
   "cell_type": "code",
   "execution_count": null,
   "id": "6be1d7cd-7fe1-4a5f-a498-5bf486a38c58",
   "metadata": {
    "tags": []
   },
   "outputs": [],
   "source": [
    "query_engine = index.as_query_engine()"
   ]
  },
  {
   "cell_type": "code",
   "execution_count": null,
   "id": "3f23e03d-acf3-4dc3-9416-d6c57424e356",
   "metadata": {
    "tags": []
   },
   "outputs": [],
   "source": [
    "response = query_engine.query(\"What IPv4 address Jetson device gets assigned when connected to a PC with a USB cable? \\\n",
    "    And what file to edit in order to change the IP address to be assigned to Jetson itself in USB device mode? \\\n",
    "    Plesae state which section you find the answer for each question.\")"
   ]
  },
  {
   "cell_type": "markdown",
   "id": "b862a313-8dc8-43bc-ad07-fd3dbeff023b",
   "metadata": {},
   "source": [
    "Let's check the response."
   ]
  },
  {
   "cell_type": "code",
   "execution_count": null,
   "id": "5fc566dd-e2c7-41d9-8f9e-3de55cfde2d7",
   "metadata": {
    "tags": []
   },
   "outputs": [],
   "source": [
    "from IPython.display import Markdown, display\n",
    "\n",
    "display(Markdown(f\"<b>{response}</b>\"))"
   ]
  },
  {
   "cell_type": "code",
   "execution_count": null,
   "id": "ac876c8e-e0b5-4a54-99e7-4db5b7c79095",
   "metadata": {},
   "outputs": [],
   "source": []
  }
 ],
 "metadata": {
  "kernelspec": {
   "display_name": "Python 3 (ipykernel)",
   "language": "python",
   "name": "python3"
  },
  "language_info": {
   "codemirror_mode": {
    "name": "ipython",
    "version": 3
   },
   "file_extension": ".py",
   "mimetype": "text/x-python",
   "name": "python",
   "nbconvert_exporter": "python",
   "pygments_lexer": "ipython3",
   "version": "3.10.12"
  }
 },
 "nbformat": 4,
 "nbformat_minor": 5
}
